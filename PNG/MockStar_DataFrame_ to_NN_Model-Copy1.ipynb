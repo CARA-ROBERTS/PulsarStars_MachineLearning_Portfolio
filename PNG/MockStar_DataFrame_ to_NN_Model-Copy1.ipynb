{
 "cells": [
  {
   "cell_type": "code",
   "execution_count": 3,
   "metadata": {},
   "outputs": [],
   "source": [
    "### Import preprocessing libraries\n",
    "%matplotlib inline\n",
    "import matplotlib.pyplot as plt\n",
    "import numpy as np\n",
    "import pandas as pd\n",
    "import sklearn\n",
    "\n",
    "### Import libraries for neural models\n",
    "from numpy.random import seed\n",
    "seed(42)\n",
    "import tensorflow\n",
    "tensorflow.keras.__version__\n",
    "import tensorflow as tf"
   ]
  },
  {
   "cell_type": "code",
   "execution_count": 4,
   "metadata": {},
   "outputs": [
    {
     "ename": "OSError",
     "evalue": "SavedModel file does not exist at: PulsarStar_NN_Model.h5/{saved_model.pbtxt|saved_model.pb}",
     "output_type": "error",
     "traceback": [
      "\u001b[1;31m---------------------------------------------------------------------------\u001b[0m",
      "\u001b[1;31mOSError\u001b[0m                                   Traceback (most recent call last)",
      "\u001b[1;32m<ipython-input-4-2bc83654aa29>\u001b[0m in \u001b[0;36m<module>\u001b[1;34m\u001b[0m\n\u001b[0;32m      2\u001b[0m \u001b[1;32mfrom\u001b[0m \u001b[0mtensorflow\u001b[0m\u001b[1;33m.\u001b[0m\u001b[0mkeras\u001b[0m\u001b[1;33m.\u001b[0m\u001b[0mmodels\u001b[0m \u001b[1;32mimport\u001b[0m \u001b[0mload_model\u001b[0m\u001b[1;33m\u001b[0m\u001b[1;33m\u001b[0m\u001b[0m\n\u001b[0;32m      3\u001b[0m \u001b[1;33m\u001b[0m\u001b[0m\n\u001b[1;32m----> 4\u001b[1;33m \u001b[0mmodel\u001b[0m \u001b[1;33m=\u001b[0m \u001b[0mload_model\u001b[0m\u001b[1;33m(\u001b[0m\u001b[1;34m\"PulsarStar_NN_Model.h5\"\u001b[0m\u001b[1;33m)\u001b[0m\u001b[1;33m\u001b[0m\u001b[1;33m\u001b[0m\u001b[0m\n\u001b[0m",
      "\u001b[1;32m~\\Anaconda3\\envs\\PythonData\\lib\\site-packages\\tensorflow_core\\python\\keras\\saving\\save.py\u001b[0m in \u001b[0;36mload_model\u001b[1;34m(filepath, custom_objects, compile)\u001b[0m\n\u001b[0;32m    147\u001b[0m \u001b[1;33m\u001b[0m\u001b[0m\n\u001b[0;32m    148\u001b[0m   \u001b[1;32mif\u001b[0m \u001b[0misinstance\u001b[0m\u001b[1;33m(\u001b[0m\u001b[0mfilepath\u001b[0m\u001b[1;33m,\u001b[0m \u001b[0msix\u001b[0m\u001b[1;33m.\u001b[0m\u001b[0mstring_types\u001b[0m\u001b[1;33m)\u001b[0m\u001b[1;33m:\u001b[0m\u001b[1;33m\u001b[0m\u001b[1;33m\u001b[0m\u001b[0m\n\u001b[1;32m--> 149\u001b[1;33m     \u001b[0mloader_impl\u001b[0m\u001b[1;33m.\u001b[0m\u001b[0mparse_saved_model\u001b[0m\u001b[1;33m(\u001b[0m\u001b[0mfilepath\u001b[0m\u001b[1;33m)\u001b[0m\u001b[1;33m\u001b[0m\u001b[1;33m\u001b[0m\u001b[0m\n\u001b[0m\u001b[0;32m    150\u001b[0m     \u001b[1;32mreturn\u001b[0m \u001b[0msaved_model_load\u001b[0m\u001b[1;33m.\u001b[0m\u001b[0mload\u001b[0m\u001b[1;33m(\u001b[0m\u001b[0mfilepath\u001b[0m\u001b[1;33m,\u001b[0m \u001b[0mcompile\u001b[0m\u001b[1;33m)\u001b[0m\u001b[1;33m\u001b[0m\u001b[1;33m\u001b[0m\u001b[0m\n\u001b[0;32m    151\u001b[0m \u001b[1;33m\u001b[0m\u001b[0m\n",
      "\u001b[1;32m~\\Anaconda3\\envs\\PythonData\\lib\\site-packages\\tensorflow_core\\python\\saved_model\\loader_impl.py\u001b[0m in \u001b[0;36mparse_saved_model\u001b[1;34m(export_dir)\u001b[0m\n\u001b[0;32m     81\u001b[0m                   (export_dir,\n\u001b[0;32m     82\u001b[0m                    \u001b[0mconstants\u001b[0m\u001b[1;33m.\u001b[0m\u001b[0mSAVED_MODEL_FILENAME_PBTXT\u001b[0m\u001b[1;33m,\u001b[0m\u001b[1;33m\u001b[0m\u001b[1;33m\u001b[0m\u001b[0m\n\u001b[1;32m---> 83\u001b[1;33m                    constants.SAVED_MODEL_FILENAME_PB))\n\u001b[0m\u001b[0;32m     84\u001b[0m \u001b[1;33m\u001b[0m\u001b[0m\n\u001b[0;32m     85\u001b[0m \u001b[1;33m\u001b[0m\u001b[0m\n",
      "\u001b[1;31mOSError\u001b[0m: SavedModel file does not exist at: PulsarStar_NN_Model.h5/{saved_model.pbtxt|saved_model.pb}"
     ]
    }
   ],
   "source": [
    "# Load Neural Net Model for predictions\n",
    "from tensorflow.keras.models import load_model\n",
    "\n",
    "model = load_model(\"PulsarStar_NN_Model.h5\")"
   ]
  },
  {
   "cell_type": "code",
   "execution_count": null,
   "metadata": {},
   "outputs": [],
   "source": [
    "# Read in Original DataSet to Analyze for New Mock DataFrame\n",
    "starOrignialDF= pd.read_csv('pulsarStarData.csv', encoding = 'utf8')\n",
    "starOrignialDF.dropna()\n"
   ]
  },
  {
   "cell_type": "code",
   "execution_count": null,
   "metadata": {},
   "outputs": [],
   "source": [
    "#Pull Orignal data stats\n",
    "statisticsDF= starOrignialDF.describe()\n",
    "statisticsDF"
   ]
  },
  {
   "cell_type": "code",
   "execution_count": null,
   "metadata": {},
   "outputs": [],
   "source": [
    "# Clean Stats DataFrame: Remove Column (target_class) and Row (count and std). Cleaned DataFrame is ready to model predict.\n",
    "statisticsDF1 = statisticsDF.drop(['target_class'], axis = 1)\n",
    "statisticsDF_cleaned = statisticsDF1.drop([statisticsDF.index[0] , statisticsDF1.index[2]])\n",
    "statisticsDF_cleaned"
   ]
  },
  {
   "cell_type": "code",
   "execution_count": null,
   "metadata": {},
   "outputs": [],
   "source": [
    "# Predict Pulsar Star Outcomes on Stats DataFrame\n",
    "predict = model.predict_classes(statisticsDF_cleaned[:6])\n",
    "print(predict)"
   ]
  },
  {
   "cell_type": "code",
   "execution_count": null,
   "metadata": {
    "scrolled": true
   },
   "outputs": [],
   "source": [
    "statisticsDF_cleaned['Pulsar Predictions']=predict\n",
    "statisticsDF_cleaned"
   ]
  },
  {
   "cell_type": "code",
   "execution_count": null,
   "metadata": {},
   "outputs": [],
   "source": [
    "# Generate the Plot \n",
    "\n",
    "Statistic = ['mean','min', '25%','50%', '75%', 'max']\n",
    "Mean_Integrated_Profile = statisticsDF_cleaned['Mean of the integrated profile']\n",
    "SDev_Integrated_Profile= [46.549532,24.772042,42.376018,46.947479,51.023202,98.778911]\n",
    "Excess_Kurtosis_Integrated_Profile = [0.477857, -1.876011,0.027098,0.223240,0.473325,8.069522]\n",
    "Skewness_Integrated_Profile= [1.770279,-1.791886,-0.188572,0.198710,0.927783,68.101622]\n",
    "Mean_DM_SNR_curve= [12.614400,0.213211,1.923077,2.801839,5.464256,223.392140]\n",
    "SDev_DM_SNR_curve=[26.326515,7.370432,14.437332,18.461316,28.428104,110.642211]\n",
    "Excess_Kurtosis_DM_SNR_curve= [8.303556,-3.139270,5.781506,8.433515,10.702959,34.539844]\n",
    "\n",
    "# Took off Skewness_DM_SNR_curve the max feature was an outlier for the chart\n",
    "# Skewness_DM_SNR_curve=[104.857709,-1.976976,34.960504,83.064556,139.309331,1191.000837]\n",
    "\n",
    "fig = plt.figure()\n",
    "x = statisticsDF_cleaned[\"Pulsar Predictions\"].plot(kind='bar',color= \"lightblue\", use_index=True)\n",
    "x = ax.twinx()\n",
    "x.plot(Statistic,Mean_Integrated_Profile, marker = \"o\", color= \"red\", label=\"Mean_Integrated_Profile \")\n",
    "x.plot(Statistic, SDev_Integrated_Profile,marker= \"^\",color=\"blue\", label= \"SDev_Integrated_Profile\")\n",
    "x.plot(Statistic,Excess_Kurtosis_Integrated_Profile,marker= \"s\",color=\"green\", label= \"Excess_Kurtosis_Integrated_Profile\")\n",
    "x.plot(Statistic, Skewness_Integrated_Profile,marker= \"d\",color=\"black\", label= \"Skewness_Integrated_Profile\")\n",
    "x.plot(Statistic, Mean_DM_SNR_curve,marker= \"s\",color=\"hotpink\", label= \"Mean_DM_SNR_curve\")\n",
    "x.plot(Statistic, SDev_DM_SNR_curve,marker= \"o\",color=\"purple\", label= \"SDev_DM_SNR_curve\")\n",
    "x.plot(Statistic,Excess_Kurtosis_DM_SNR_curve,marker= \"<\",color=\"orange\", label= \"Excess_Kurtosis_DM_SNR_curve\")\n",
    "# ax2.plot(Statistic, Skewness_DM_SNR_curve,marker= \">\",color=\"yellow\", label= \"Skewness_DM_SNR_curve\")\n",
    "\n",
    "\n",
    "plt.title(\"Statistic Describe(Line Plot) To Pulsar Star Positive Prediction (Blue Bar)\")\n",
    "plt.xlabel(\"Statistic\")\n",
    "plt.ylabel(\"Variable Input Data\")\n",
    "plt.grid()\n",
    "\n",
    "plt.show()"
   ]
  },
  {
   "cell_type": "code",
   "execution_count": null,
   "metadata": {},
   "outputs": [],
   "source": [
    "# Check all classifier variables : Max / Min params to help create mock data\n",
    "var_max = starOrignialDF[:].max()\n",
    "var_min = starOrignialDF[:].min()\n",
    "\n",
    "print(f\"variable_max: {var_max}\")\n",
    "print(f\"variable_min: {var_min}\")"
   ]
  },
  {
   "cell_type": "code",
   "execution_count": null,
   "metadata": {},
   "outputs": [],
   "source": [
    "# intialize data of lists. \n",
    "data = {\" Mean of the integrated profile\"               :[120.4536,87.3673, 10.4849],\n",
    "        \"Standard deviation of the integrated profile\"  : [38.7911,66.2132, 94.4532],\n",
    "        \"Excess kurtosis of the integrated profile\"     : [ 4.0692, 1.4377, -1.0111],\n",
    "        \"Skewness of the integrated profile\"            : [ 8.1622,-0.7279,5.7916],\n",
    "        \"Mean of the DM-SNR curve\"                      : [113.3940,121.4400,0.213211],\n",
    "        \"Standard deviation of the DM-SNR curve\"        : [16.4251,16.3515, 94.3432],\n",
    "        \"Excess kurtosis of the DM-SNR curve\"           :  [4.5344,-1.3754,23.1270],\n",
    "        \"Skewness of the DM-SNR curve\"                  :[101.3727,4.0574, -0.2176],\n",
    "        } \n",
    " \n",
    "# Create DataFrame \n",
    "print('               Mock DF')\n",
    "print('           __________________________')\n",
    "\n",
    "mockDF= pd.DataFrame.from_dict(data) \n",
    "mockDF"
   ]
  },
  {
   "cell_type": "code",
   "execution_count": null,
   "metadata": {},
   "outputs": [],
   "source": [
    "# Adding rows to DataFrame\n",
    "mockDF.loc[3]= [111.765625,52.943585,0.671724,0.383594,149.843646,97.926948,-0.696153,-1.260403]\n",
    "mockDF.loc[4]= [99.367188,41.572202,1.547197,4.154106,27.555184,61.719016,2.208808,3.662680]\n",
    "mockDF.loc[5]= [10.367188,81.572202,-1.547197,5.154106,0.555184,91.719016,21.208808,-0.662680]\n",
    "mockDF.loc[6]= [29.27458,71.397202,1.21317,3.18676,1.54584,61.34536,24.476758,0.44480]\n",
    "mockDF.loc[7]= [109.347588,41.572202,1.547197,4.154106,27.555184,61.719016,2.208808,3.662680]\n",
    "mockDF.loc[8]= [51.3388,33.393702,8.55857,4.1106,27.47484,53.45366,1.4658,93.29701]\n",
    "mockDF.loc[9]= [76.35768,21.94742,0.53831,45.154106,16.55454,71.713816,-2.25768,13.24350]\n",
    "\n",
    "mockDF"
   ]
  },
  {
   "cell_type": "code",
   "execution_count": null,
   "metadata": {},
   "outputs": [],
   "source": [
    "# Predict Pulsar Star Outcomes\n",
    "mock_predictions = model.predict_classes(mockDF[:])\n",
    "print(mock_predictions)"
   ]
  },
  {
   "cell_type": "code",
   "execution_count": null,
   "metadata": {
    "scrolled": true
   },
   "outputs": [],
   "source": [
    "# Add Prediction Column\n",
    "mockDF[\"Pulsar Predictions\"]=mock_predictions\n",
    "\n",
    "#Final Prediction DataFrame\n",
    "mockDF"
   ]
  },
  {
   "cell_type": "code",
   "execution_count": null,
   "metadata": {
    "scrolled": true
   },
   "outputs": [],
   "source": [
    "# Generate the Plot \n",
    "\n",
    "Statistic = [0,1,2,3,4,5,6,7,8,9]\n",
    "Mean_Integrated_Profile = [120.4536,87.3673, 10.4849,111.765625,99.367188,10.367188,29.274580,109.347588,51.338800,76.357680]\n",
    "SDev_Integrated_Profile= mockDF['Standard deviation of the integrated profile']\n",
    "Excess_Kurtosis_Integrated_Profile = mockDF['Excess kurtosis of the integrated profile']\n",
    "Skewness_Integrated_Profile= mockDF['Skewness of the integrated profile']\n",
    "Mean_DM_SNR_curve= mockDF['Mean of the DM-SNR curve']\n",
    "SDev_DM_SNR_curve= mockDF['Standard deviation of the DM-SNR curve']\n",
    "Excess_Kurtosis_DM_SNR_curve= mockDF ['Excess kurtosis of the DM-SNR curve']\n",
    "Skewness_DM_SNR_curve= mockDF['Skewness of the DM-SNR curve']\n",
    "\n",
    "fig = plt.figure()\n",
    "ax = mockDF[\"Pulsar Predictions\"].plot(kind='bar',color= \"lightblue\", use_index=True)\n",
    "ax2 = ax.twinx()\n",
    "ax2.plot(Statistic,Mean_Integrated_Profile, marker = \"o\", color= \"red\", label=\"Mean_Integrated_Profile \")\n",
    "ax2.plot(Statistic, SDev_Integrated_Profile,marker= \"^\",color=\"blue\", label= \"SDev_Integrated_Profile\")\n",
    "ax2.plot(Statistic,Excess_Kurtosis_Integrated_Profile,marker= \"s\",color=\"green\", label= \"Excess_Kurtosis_Integrated_Profile\")\n",
    "ax2.plot(Statistic, Skewness_Integrated_Profile,marker= \"d\",color=\"black\", label= \"Skewness_Integrated_Profile\")\n",
    "ax2.plot(Statistic, Mean_DM_SNR_curve,marker= \"s\",color=\"hotpink\", label= \"Mean_DM_SNR_curve\")\n",
    "ax2.plot(Statistic, SDev_DM_SNR_curve,marker= \"o\",color=\"purple\", label= \"SDev_DM_SNR_curve\")\n",
    "ax2.plot(Statistic,Excess_Kurtosis_DM_SNR_curve,marker= \"<\",color=\"orange\", label= \"Excess_Kurtosis_DM_SNR_curve\")\n",
    "plt.plot(Statistic, Skewness_DM_SNR_curve,marker= \">\",color=\"yellow\", label= \"Skewness_DM_SNR_curve\")\n",
    "\n",
    "\n",
    "plt.title(\"Statistic Describe(Line Plot) To Pulsar Star Positive Prediction (Blue Bar)\")\n",
    "plt.xlabel(\"OBS#\")\n",
    "plt.ylabel(\"Variable Input Data\")\n",
    "plt.grid()\n",
    "plt.xticks(rotation=90)\n",
    "plt.show()"
   ]
  },
  {
   "cell_type": "code",
   "execution_count": null,
   "metadata": {},
   "outputs": [],
   "source": []
  }
 ],
 "metadata": {
  "kernelspec": {
   "display_name": "Python 3",
   "language": "python",
   "name": "python3"
  },
  "language_info": {
   "codemirror_mode": {
    "name": "ipython",
    "version": 3
   },
   "file_extension": ".py",
   "mimetype": "text/x-python",
   "name": "python",
   "nbconvert_exporter": "python",
   "pygments_lexer": "ipython3",
   "version": "3.6.9"
  }
 },
 "nbformat": 4,
 "nbformat_minor": 2
}
